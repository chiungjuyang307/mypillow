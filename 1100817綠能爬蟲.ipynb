{
  "nbformat": 4,
  "nbformat_minor": 0,
  "metadata": {
    "colab": {
      "name": "1100817綠能爬蟲.ipynb",
      "provenance": [],
      "authorship_tag": "ABX9TyOpWhe3lyQvWx8QN+UaMIR2",
      "include_colab_link": true
    },
    "kernelspec": {
      "name": "python3",
      "display_name": "Python 3"
    },
    "language_info": {
      "name": "python"
    }
  },
  "cells": [
    {
      "cell_type": "markdown",
      "metadata": {
        "id": "view-in-github",
        "colab_type": "text"
      },
      "source": [
        "<a href=\"https://colab.research.google.com/github/chiungjuyang307/mypillow/blob/main/1100817%E7%B6%A0%E8%83%BD%E7%88%AC%E8%9F%B2.ipynb\" target=\"_parent\"><img src=\"https://colab.research.google.com/assets/colab-badge.svg\" alt=\"Open In Colab\"/></a>"
      ]
    },
    {
      "cell_type": "code",
      "metadata": {
        "id": "-5aVRy1WuK_6"
      },
      "source": [
        "# 搜搜http狀態碼"
      ],
      "execution_count": null,
      "outputs": []
    },
    {
      "cell_type": "code",
      "metadata": {
        "colab": {
          "base_uri": "https://localhost:8080/"
        },
        "id": "qYXnum4BHGAZ",
        "outputId": "4707d2e9-d895-4905-bb47-e315476f3a6b"
      },
      "source": [
        "import requests\n",
        "url=\"http://ehappy.tw/bsdemo1.htm\"\n",
        "html=requests.get(url)\n",
        "html.encoding=\"utf-8\"\n",
        "print(html.text)"
      ],
      "execution_count": 2,
      "outputs": [
        {
          "output_type": "stream",
          "text": [
            "﻿<!doctype html>\r\n",
            "<html lang=\"zh\">\r\n",
            "  <head>\r\n",
            "    <meta charset=\"UTF-8\">\r\n",
            "    <title>我是網頁標題</title>\r\n",
            "  </head>\r\n",
            "  <body>\r\n",
            "    <h1 class=\"large\">我是標題</h1>\r\n",
            "    <div>\r\n",
            "      <p>我是段落</p>\r\n",
            "      <img src=\"https://www.w3.org/html/logo/downloads/HTML5_Logo_256.png\" alt=\"我是圖片\">\r\n",
            "      <a href=\"http://www.e-happy.com.tw\">我是超連結</a>\r\n",
            "    </div>\r\n",
            "  </body>\r\n",
            "</html>\n"
          ],
          "name": "stdout"
        }
      ]
    },
    {
      "cell_type": "code",
      "metadata": {
        "id": "nkl4Q9z6IFJN"
      },
      "source": [
        "from bs4 import BeautifulSoup"
      ],
      "execution_count": 3,
      "outputs": []
    },
    {
      "cell_type": "code",
      "metadata": {
        "id": "nBy9G36pIMQ_",
        "colab": {
          "base_uri": "https://localhost:8080/",
          "height": 35
        },
        "outputId": "086fe35f-6252-4368-9a1b-271e2469da66"
      },
      "source": [
        "sp=BeautifulSoup(html.text,\"html.parser\")\n",
        "sp.a.text\n",
        "#sp.body.div.a.text\n"
      ],
      "execution_count": 4,
      "outputs": [
        {
          "output_type": "execute_result",
          "data": {
            "application/vnd.google.colaboratory.intrinsic+json": {
              "type": "string"
            },
            "text/plain": [
              "'我是超連結'"
            ]
          },
          "metadata": {
            "tags": []
          },
          "execution_count": 4
        }
      ]
    },
    {
      "cell_type": "code",
      "metadata": {
        "colab": {
          "base_uri": "https://localhost:8080/",
          "height": 35
        },
        "id": "mJplX7qWNdQB",
        "outputId": "3c6fe91b-c015-4175-9d8c-390ae9d19f58"
      },
      "source": [
        "#sp.a.get(\"href\")\n",
        "sp.a['href']"
      ],
      "execution_count": 5,
      "outputs": [
        {
          "output_type": "execute_result",
          "data": {
            "application/vnd.google.colaboratory.intrinsic+json": {
              "type": "string"
            },
            "text/plain": [
              "'http://www.e-happy.com.tw'"
            ]
          },
          "metadata": {
            "tags": []
          },
          "execution_count": 5
        }
      ]
    },
    {
      "cell_type": "code",
      "metadata": {
        "colab": {
          "base_uri": "https://localhost:8080/",
          "height": 35
        },
        "id": "jnz6P5auNzTx",
        "outputId": "2e9120ea-bde2-4fc2-b1a8-7673fa27e092"
      },
      "source": [
        "#sp.img.get('src')\n",
        "sp.img['src']"
      ],
      "execution_count": 6,
      "outputs": [
        {
          "output_type": "execute_result",
          "data": {
            "application/vnd.google.colaboratory.intrinsic+json": {
              "type": "string"
            },
            "text/plain": [
              "'https://www.w3.org/html/logo/downloads/HTML5_Logo_256.png'"
            ]
          },
          "metadata": {
            "tags": []
          },
          "execution_count": 6
        }
      ]
    },
    {
      "cell_type": "markdown",
      "metadata": {
        "id": "JTnukkysOqkp"
      },
      "source": [
        "# 2"
      ]
    },
    {
      "cell_type": "code",
      "metadata": {
        "colab": {
          "base_uri": "https://localhost:8080/"
        },
        "id": "Ft5ZJfIZOv83",
        "outputId": "c9667591-1740-4e40-c944-ac5c78c360e6"
      },
      "source": [
        "import requests\n",
        "url=\"http://ehappy.tw/bsdemo2.htm\"\n",
        "html2=requests.get(url)\n",
        "html2.encoding=\"utf-8\"\n",
        "print(html2.text)"
      ],
      "execution_count": 7,
      "outputs": [
        {
          "output_type": "stream",
          "text": [
            "﻿<!doctype html>\r\n",
            "<html>\r\n",
            "  <head>\r\n",
            "    <meta charset=\"UTF-8\">\r\n",
            "    <title>我是網頁標題</title>\r\n",
            "  </head>\r\n",
            "  <body>\r\n",
            "    <h1 class=\"large\">我是標題</h1>\r\n",
            "    <div>\r\n",
            "      <p id=\"p1\" class=\"large\">我是段落一</p>\r\n",
            "      <p id=\"p2\" style=\"font-size:16pt\">我是段落二</p>\r\n",
            "      <img src=\"https://www.w3.org/html/logo/downloads/HTML5_Logo_256.png\" alt=\"HTML5 logo\">\r\n",
            "      <ul>\r\n",
            "        <li class=\"odd\"><a href=\"http://www.ehappy.tw\">我是超連結1</a></li>\r\n",
            "        <li class=\"even\"><a href=\"http://www.e-happy.com.tw\">我是超連結2</a></li>\r\n",
            "      </ul>\r\n",
            "    </div>\r\n",
            "  </body>\r\n",
            "</html>\n"
          ],
          "name": "stdout"
        }
      ]
    },
    {
      "cell_type": "code",
      "metadata": {
        "colab": {
          "base_uri": "https://localhost:8080/",
          "height": 35
        },
        "id": "kuTHQ0-WPEfi",
        "outputId": "3de3a768-2448-4b43-e708-e2fe2ef33bc8"
      },
      "source": [
        "from bs4 import BeautifulSoup\n",
        "sp2=BeautifulSoup(html2.text,\"html.parser\")\n",
        "sp2.p.text"
      ],
      "execution_count": 8,
      "outputs": [
        {
          "output_type": "execute_result",
          "data": {
            "application/vnd.google.colaboratory.intrinsic+json": {
              "type": "string"
            },
            "text/plain": [
              "'我是段落一'"
            ]
          },
          "metadata": {
            "tags": []
          },
          "execution_count": 8
        }
      ]
    },
    {
      "cell_type": "code",
      "metadata": {
        "colab": {
          "base_uri": "https://localhost:8080/",
          "height": 35
        },
        "id": "Bm7J0lrQPqP4",
        "outputId": "18a8b9ff-1624-4f29-fdbd-1799c1c10fa0"
      },
      "source": [
        "sp2.find('p',id=\"p2\").text"
      ],
      "execution_count": 39,
      "outputs": [
        {
          "output_type": "execute_result",
          "data": {
            "application/vnd.google.colaboratory.intrinsic+json": {
              "type": "string"
            },
            "text/plain": [
              "'我是段落二'"
            ]
          },
          "metadata": {
            "tags": []
          },
          "execution_count": 39
        }
      ]
    },
    {
      "cell_type": "code",
      "metadata": {
        "colab": {
          "base_uri": "https://localhost:8080/",
          "height": 35
        },
        "id": "AbKuzINeQMpq",
        "outputId": "cda5b678-a467-4e8c-fef8-b02b4340e299"
      },
      "source": [
        "sp2.find(\"li\",class_=\"even\").a.text"
      ],
      "execution_count": 40,
      "outputs": [
        {
          "output_type": "execute_result",
          "data": {
            "application/vnd.google.colaboratory.intrinsic+json": {
              "type": "string"
            },
            "text/plain": [
              "'我是超連結2'"
            ]
          },
          "metadata": {
            "tags": []
          },
          "execution_count": 40
        }
      ]
    },
    {
      "cell_type": "code",
      "metadata": {
        "colab": {
          "base_uri": "https://localhost:8080/"
        },
        "id": "Te-d9lJNQzmz",
        "outputId": "e22de974-6d7f-4cc6-ac7d-368a8edf46eb"
      },
      "source": [
        "sp2.find_all('p')"
      ],
      "execution_count": 41,
      "outputs": [
        {
          "output_type": "execute_result",
          "data": {
            "text/plain": [
              "[<p class=\"large\" id=\"p1\">我是段落一</p>,\n",
              " <p id=\"p2\" style=\"font-size:16pt\">我是段落二</p>]"
            ]
          },
          "metadata": {
            "tags": []
          },
          "execution_count": 41
        }
      ]
    },
    {
      "cell_type": "code",
      "metadata": {
        "colab": {
          "base_uri": "https://localhost:8080/"
        },
        "id": "ZnHq0KtZRHK5",
        "outputId": "e92e838c-a7cc-429d-d1e5-b66b8aa83e54"
      },
      "source": [
        "L=sp2.find_all('p')\n",
        "for i in L:\n",
        "  print(i.text)"
      ],
      "execution_count": 43,
      "outputs": [
        {
          "output_type": "stream",
          "text": [
            "我是段落一\n",
            "我是段落二\n"
          ],
          "name": "stdout"
        }
      ]
    },
    {
      "cell_type": "code",
      "metadata": {
        "colab": {
          "base_uri": "https://localhost:8080/"
        },
        "id": "t1FrPR3uRd0W",
        "outputId": "145619bc-2df8-41bc-b6dc-5e4cb6c07404"
      },
      "source": [
        "sp2.find_all('li')"
      ],
      "execution_count": 44,
      "outputs": [
        {
          "output_type": "execute_result",
          "data": {
            "text/plain": [
              "[<li class=\"odd\"><a href=\"http://www.ehappy.tw\">我是超連結1</a></li>,\n",
              " <li class=\"even\"><a href=\"http://www.e-happy.com.tw\">我是超連結2</a></li>]"
            ]
          },
          "metadata": {
            "tags": []
          },
          "execution_count": 44
        }
      ]
    },
    {
      "cell_type": "code",
      "metadata": {
        "colab": {
          "base_uri": "https://localhost:8080/"
        },
        "id": "TZFyKG1mRozX",
        "outputId": "bd93e6d8-d19d-4510-faa1-1d64e67ceede"
      },
      "source": [
        "H=sp2.find_all('li')\n",
        "for i in H:\n",
        "  print(i.text)"
      ],
      "execution_count": 47,
      "outputs": [
        {
          "output_type": "stream",
          "text": [
            "我是超連結1\n",
            "我是超連結2\n"
          ],
          "name": "stdout"
        }
      ]
    },
    {
      "cell_type": "code",
      "metadata": {
        "colab": {
          "base_uri": "https://localhost:8080/"
        },
        "id": "5CrlTuPZnVdq",
        "outputId": "14fdf9c4-05ba-4b81-953a-258b02085a4e"
      },
      "source": [
        "sp2.find_all('a')"
      ],
      "execution_count": 12,
      "outputs": [
        {
          "output_type": "execute_result",
          "data": {
            "text/plain": [
              "[<a href=\"http://www.ehappy.tw\">我是超連結1</a>,\n",
              " <a href=\"http://www.e-happy.com.tw\">我是超連結2</a>]"
            ]
          },
          "metadata": {
            "tags": []
          },
          "execution_count": 12
        }
      ]
    },
    {
      "cell_type": "code",
      "metadata": {
        "colab": {
          "base_uri": "https://localhost:8080/"
        },
        "id": "faSoUEDzmlYJ",
        "outputId": "24ae7438-6dc7-45ee-f078-bbf4b62efd41"
      },
      "source": [
        "B=sp2.find_all('a')\n",
        "for i in B:\n",
        "  print(i.get('href'))"
      ],
      "execution_count": 11,
      "outputs": [
        {
          "output_type": "stream",
          "text": [
            "http://www.ehappy.tw\n",
            "http://www.e-happy.com.tw\n"
          ],
          "name": "stdout"
        }
      ]
    },
    {
      "cell_type": "markdown",
      "metadata": {
        "id": "QQaXq5lnqfkX"
      },
      "source": [
        "# 新增區段"
      ]
    },
    {
      "cell_type": "code",
      "metadata": {
        "id": "GHhrvljrqk6m"
      },
      "source": [
        "import requests\n",
        "from bs4 import BeautifulSoup\n",
        "url=\"https://www.ptt.cc/bbs/Food/index.html\"\n",
        "html=requests.get(url)\n",
        "html.encoding=\"utf-8\""
      ],
      "execution_count": null,
      "outputs": []
    },
    {
      "cell_type": "code",
      "metadata": {
        "colab": {
          "base_uri": "https://localhost:8080/",
          "height": 35
        },
        "id": "uf7TXK3VrGpn",
        "outputId": "fb9cc7c2-02e3-4690-852e-0c5fd1f49f5b"
      },
      "source": [
        "sp=BeautifulSoup(html.text,\"html.parser\")\n",
        "sp.title.text"
      ],
      "execution_count": 16,
      "outputs": [
        {
          "output_type": "execute_result",
          "data": {
            "application/vnd.google.colaboratory.intrinsic+json": {
              "type": "string"
            },
            "text/plain": [
              "'看板 Food 文章列表 - 批踢踢實業坊'"
            ]
          },
          "metadata": {
            "tags": []
          },
          "execution_count": 16
        }
      ]
    },
    {
      "cell_type": "code",
      "metadata": {
        "colab": {
          "base_uri": "https://localhost:8080/"
        },
        "id": "U_wC2heerpJ_",
        "outputId": "5f4f0cd2-b1d8-4e6f-ddab-080fd3ace74b"
      },
      "source": [
        "D=sp.find_all('div',class_=\"r-ent\")\n",
        "for i in D:\n",
        "    print(i.a.text)"
      ],
      "execution_count": 20,
      "outputs": [
        {
          "output_type": "stream",
          "text": [
            "[食記] 高雄 壽司郎中正店 迴轉壽司自取外帶回家\n",
            "[請益] 山海樓的外帶套餐建議\n",
            "[食記] 高雄 新興 17號西班牙餐酒館\n",
            "[食記]永和樂澄小店牛肉麵專門店\n",
            "[食記] 新店 黑角\n",
            "[食記] [台北][中山] 家鴻燒鵝/排隊30分鐘也要吃\n",
            "[食記] 基隆市信義區-瑞英生煎包鍋貼\n",
            "[食記] 個人認為史上最雷高評價店-桃園村民食堂\n",
            "[食記] 台北 公館 曉鹿鳴樓上海菜\n",
            "[廣宣] 苗栗後龍 堅果爸爸 低溫烘焙堅果\n",
            "[請益] 想找吃起來味道及口感和山岡家類似的拉\n",
            "[食記] 嘉義 東門圓環旁 東門小卷麵線\n",
            "[食記] 桃園中壢區。斜坡粉漿蛋餅\n",
            "[食記] 台北中山 柒串燒\n",
            "[食記] 基隆 第34夜 隱藏在巷弄 鮮美噴香海鮮義大利麵\n",
            "[食記] 新北樹林 鑫記碳烤肉餅\n",
            "[公告] Food板 板規 V3.91\n",
            "[公告] 發文請在標題加上地區及提供地址電話。^^\n",
            "[公告] 文章被刪除者請洽精華區的資源回收桶\n",
            "[公告] 新增板規22：發文禁附延伸閱讀連結\n"
          ],
          "name": "stdout"
        }
      ]
    },
    {
      "cell_type": "code",
      "metadata": {
        "id": "i7ipiFAfsq5L"
      },
      "source": [
        "D=sp.find_all('div',class_=\"r-ent\")\n",
        "for i in D:\n",
        "  print(i.find('div',class_='date').text,end=\" \")\n",
        "  #print(i.a.get('href'))\n",
        "  print(\"https://www.ptt.cc/\"+i.a['href'],end=\" \")\n",
        "  print(i.a.text)"
      ],
      "execution_count": null,
      "outputs": []
    },
    {
      "cell_type": "code",
      "metadata": {
        "id": "6tfVwNeJvkCX"
      },
      "source": [
        "import requests\n",
        "from bs4 import BeautifulSoup\n",
        "url=\"https://www.ptt.cc/bbs/Food/index.html\"\n",
        "html=requests.get(url)\n",
        "html.encoding=\"utf-8\"\n",
        "sp=BeautifulSoup(html.text,\"html.parser\")\n",
        "sp.title.text\n",
        "D=sp.find_all('div',class_=\"r-ent\")\n",
        "for i in D:\n",
        "  print(i.find('div',class_='date').text,end=\" \")\n",
        "  #print(i.a.get('href'))\n",
        "  print(\"https://www.ptt.cc/\"+i.a['href'],end=\" \")\n",
        "  print(i.a.text)"
      ],
      "execution_count": null,
      "outputs": []
    },
    {
      "cell_type": "markdown",
      "metadata": {
        "id": "QvcJt_xHvwZN"
      },
      "source": [
        "# 一次抓五頁"
      ]
    },
    {
      "cell_type": "code",
      "metadata": {
        "colab": {
          "base_uri": "https://localhost:8080/",
          "height": 35
        },
        "id": "Q0rWPGhCyFib",
        "outputId": "49236817-2d48-4853-ead1-e53987a100b9"
      },
      "source": [
        "\"https://www.ptt.cc/\" + sp.find_all('a',class_=\"btn wide\")[1].get('href')"
      ],
      "execution_count": 36,
      "outputs": [
        {
          "output_type": "execute_result",
          "data": {
            "application/vnd.google.colaboratory.intrinsic+json": {
              "type": "string"
            },
            "text/plain": [
              "'https://www.ptt.cc//bbs/Food/index7001.html'"
            ]
          },
          "metadata": {
            "tags": []
          },
          "execution_count": 36
        }
      ]
    },
    {
      "cell_type": "code",
      "metadata": {
        "id": "QDTo9xrmoa_f"
      },
      "source": [
        "<a href=\"/bbs/Food/M.1629110767.A.310.html\">[食記] 高雄 壽司郎中正店 迴轉壽司自取外帶回家</a>"
      ],
      "execution_count": null,
      "outputs": []
    },
    {
      "cell_type": "code",
      "metadata": {
        "id": "fDw-iwJwxXQg"
      },
      "source": [
        "#https://www.ptt.cc/bbs/Food/index7001.html\n",
        "import requests\n",
        "from bs4 import BeautifulSoup\n",
        "url=\"https://www.ptt.cc/bbs/Food/index.html\"\n",
        "\n",
        "for j in range(5):\n",
        "    print(\"第%d頁\"%(j+1))\n",
        "    html=requests.get(url)\n",
        "    html.encoding=\"utf-8\"\n",
        "    sp=BeautifulSoup(html.text,\"html.parser\")\n",
        "    sp.title.text\n",
        "    D=sp.find_all('div',class_=\"r-ent\")\n",
        "    for i in D:\n",
        "        print(i.find('div',class_='date').text,end=\" \")\n",
        "        #print(i.a.get('href'))\n",
        "        print(\"https://www.ptt.cc/\"+i.a['href'],end=\" \")\n",
        "        print(i.a.text)\n",
        "\n",
        "    url= \"https://www.ptt.cc/\" + sp.find_all('a',class_=\"btn wide\")[1].get('href')"
      ],
      "execution_count": null,
      "outputs": []
    },
    {
      "cell_type": "markdown",
      "metadata": {
        "id": "lO8_PMFH1EtF"
      },
      "source": [
        "# cookie認證"
      ]
    },
    {
      "cell_type": "code",
      "metadata": {
        "colab": {
          "base_uri": "https://localhost:8080/"
        },
        "id": "XJV2ThYP3Gsc",
        "outputId": "292b7674-9bbb-440c-f293-840b5ce8f156"
      },
      "source": [
        "import requests\n",
        "from bs4 import BeautifulSoup\n",
        "url=\"https://www.ptt.cc/bbs/Gossiping/index.html\"\n",
        "\n",
        "headers={\"cookie\":\"over18=1\"}\n",
        "\n",
        "html=requests.get(url,headers=headers)\n",
        "html.encoding=\"utf-8\"\n",
        "sp=BeautifulSoup(html.text,\"html.parser\")\n",
        "\n",
        "D=sp.find_all('div',class_=\"r-ent\")\n",
        "for i in D:\n",
        "  print(i.find('div',class_='date').text,end=\" \")\n",
        "  #print(i.a.get('href'))\n",
        "  print(\"https://www.ptt.cc/\"+i.a['href'],end=\" \")\n",
        "  print(i.a.text)"
      ],
      "execution_count": 43,
      "outputs": [
        {
          "output_type": "stream",
          "text": [
            " 8/17 https://www.ptt.cc//bbs/Gossiping/M.1629182452.A.44E.html [問卦] 便當的三樣菜選什麼最虧？\n",
            " 8/17 https://www.ptt.cc//bbs/Gossiping/M.1629182478.A.A56.html [問卦] 女權會組織軍隊拯救阿富汗嗎？\n",
            " 8/17 https://www.ptt.cc//bbs/Gossiping/M.1629182538.A.685.html [問卦] 如果法律消失，那你會想做什麼？\n",
            " 8/17 https://www.ptt.cc//bbs/Gossiping/M.1629182540.A.578.html Re: [問卦] 12猛漢最後一段說的是不是對極了\n",
            " 8/17 https://www.ptt.cc//bbs/Gossiping/M.1629182573.A.E94.html [問卦] 支語警察與支語信徒現在風向在誰那？\n",
            " 8/17 https://www.ptt.cc//bbs/Gossiping/M.1629182712.A.F0D.html [新聞] 「感謝大家說要還我公道！」馬英九：紓困\n",
            " 8/17 https://www.ptt.cc//bbs/Gossiping/M.1629182732.A.189.html [問卦] 什麼人可以打到兩劑輝瑞？\n",
            " 8/17 https://www.ptt.cc//bbs/Gossiping/M.1629182743.A.1FD.html Re: [新聞] 塔利班無法無天！擬定12至45歲「性奴隸清\n",
            " 8/17 https://www.ptt.cc//bbs/Gossiping/M.1629182770.A.DD8.html [問卦] 慟！發現白色的X毛怎麼辦？\n",
            " 8/17 https://www.ptt.cc//bbs/Gossiping/M.1629182776.A.755.html Re: [新聞] 高端首日結單！30.2萬人搶預約　現貨61.4\n",
            " 8/17 https://www.ptt.cc//bbs/Gossiping/M.1629182823.A.3FC.html [問卦] 阿富汗總統如果有錦囊 上面會寫什麼\n",
            " 8/17 https://www.ptt.cc//bbs/Gossiping/M.1629182855.A.D07.html Re: [新聞] 拜登辯護撤軍決定：阿富汗軍不肯戰 不該\n",
            " 5/11 https://www.ptt.cc//bbs/Gossiping/M.1620716589.A.F0C.html [公告] 八卦板板規(2021.05.11)\n",
            " 8/12 https://www.ptt.cc//bbs/Gossiping/M.1628741625.A.1B9.html [協尋] 8/10(二)16:25新莊新五路與新北大道交叉路口\n",
            " 8/16 https://www.ptt.cc//bbs/Gossiping/M.1629077034.A.5A9.html [協尋] 8/5興隆路四段與木柵路二段路口監視器\n",
            " 8/16 https://www.ptt.cc//bbs/Gossiping/M.1629128344.A.FC9.html [協尋] 8/16 行車記錄器 五權西路&工業22路 時間\n",
            " 8/17 https://www.ptt.cc//bbs/Gossiping/M.1629169099.A.BAB.html [協尋] 桃園市4歲黑貓走失\n"
          ],
          "name": "stdout"
        }
      ]
    }
  ]
}